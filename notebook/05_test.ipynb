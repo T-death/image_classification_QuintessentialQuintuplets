{
 "cells": [
  {
   "cell_type": "markdown",
   "id": "0bb42159-716f-411c-a05f-59ae1a01b8f2",
   "metadata": {},
   "source": [
    "# 学習を終えたモデルによるテストを実施"
   ]
  },
  {
   "cell_type": "code",
   "execution_count": 1,
   "id": "5db9044d-0304-4698-a8e2-15af273d44a2",
   "metadata": {},
   "outputs": [],
   "source": [
    "import os\n",
    "from glob import glob"
   ]
  },
  {
   "cell_type": "markdown",
   "id": "3d52c561-31d0-474a-8f71-6172ead0a6dd",
   "metadata": {},
   "source": [
    "## 定数定義"
   ]
  },
  {
   "cell_type": "code",
   "execution_count": 2,
   "id": "c4901623-f174-4551-ab2a-61035cb9afa1",
   "metadata": {},
   "outputs": [],
   "source": [
    "DATA_PATH = os.path.join('..','data')\n",
    "TEST_IMAGES_PATH = os.path.join(DATA_PATH,'test_images')\n",
    "OUTPUT_FOLDER_PATH = os.path.join(DATA_PATH,'detect')"
   ]
  },
  {
   "cell_type": "code",
   "execution_count": 3,
   "id": "9799cca2-1768-4f15-85ed-ce89ec3c9510",
   "metadata": {},
   "outputs": [
    {
     "data": {
      "text/plain": [
       "['../data/test_images/test0001.png',\n",
       " '../data/test_images/test0002.webp',\n",
       " '../data/test_images/test0003.jpeg',\n",
       " '../data/test_images/test0004.webp',\n",
       " '../data/test_images/test0005.jpg',\n",
       " '../data/test_images/test0006.webp']"
      ]
     },
     "execution_count": 3,
     "metadata": {},
     "output_type": "execute_result"
    }
   ],
   "source": [
    "img_pathAry = sorted([img_path for img_path in glob(os.path.join(TEST_IMAGES_PATH,'*'))])\n",
    "img_pathAry"
   ]
  },
  {
   "cell_type": "code",
   "execution_count": 4,
   "id": "38c4a0be-a084-4bee-a6ac-c45c15622f77",
   "metadata": {},
   "outputs": [
    {
     "name": "stdout",
     "output_type": "stream",
     "text": [
      "Namespace(agnostic_nms=False, augment=False, classes=None, conf_thres=0.25, device='', exist_ok=False, img_size=640, iou_thres=0.45, name='', no_trace=False, nosave=False, project='../data/detect', save_conf=False, save_txt=False, source='../data/test_images', update=False, view_img=False, weights=['../yolov7/runs/train/yolov7/yolov7_five_sisters/weights/last.pt'])\n",
      "YOLOR 🚀 v0.1-116-g8c0bf3f torch 1.11.0 CPU\n",
      "\n",
      "Fusing layers... \n",
      "RepConv.fuse_repvgg_block\n",
      "RepConv.fuse_repvgg_block\n",
      "RepConv.fuse_repvgg_block\n",
      "IDetect.fuse\n",
      "Model Summary: 314 layers, 36503348 parameters, 6194944 gradients\n",
      " Convert model to Traced-model... \n",
      " traced_script_module saved! \n",
      " model is traced! \n",
      "\n",
      "/Users/tdesu/opt/anaconda3/lib/python3.8/site-packages/torch/functional.py:568: UserWarning: torch.meshgrid: in an upcoming release, it will be required to pass the indexing argument. (Triggered internally at  /Users/distiller/project/pytorch/aten/src/ATen/native/TensorShape.cpp:2228.)\n",
      "  return _VF.meshgrid(tensors, **kwargs)  # type: ignore[attr-defined]\n",
      "1 Ichika, 1 Nino, 1 Miku, 1 Yotsuba, 1 Itsuki, Done. (1318.3ms) Inference, (13.1ms) NMS\n",
      " The image with the result is saved in: ../data/detect/test0001.png\n",
      "1 Ichika, 1 Nino, 1 Miku, 1 Yotsuba, 1 Itsuki, Done. (1230.3ms) Inference, (0.8ms) NMS\n",
      " The image with the result is saved in: ../data/detect/test0002.webp\n",
      "2 Ichikas, 1 Miku, 1 Yotsuba, 2 Itsukis, Done. (1454.2ms) Inference, (1.0ms) NMS\n",
      " The image with the result is saved in: ../data/detect/test0003.jpeg\n",
      "1 Ichika, 1 Nino, 1 Miku, 1 Yotsuba, 1 Itsuki, Done. (1202.9ms) Inference, (1.4ms) NMS\n",
      " The image with the result is saved in: ../data/detect/test0004.webp\n",
      "2 Ichikas, 1 Nino, 1 Miku, 1 Yotsuba, 1 Itsuki, Done. (1334.7ms) Inference, (1.5ms) NMS\n",
      " The image with the result is saved in: ../data/detect/test0005.jpg\n",
      "1 Ichika, 1 Miku, Done. (980.9ms) Inference, (2.1ms) NMS\n",
      " The image with the result is saved in: ../data/detect/test0006.webp\n",
      "Done. (11.454s)\n"
     ]
    }
   ],
   "source": [
    "!python ../yolov7/detect.py --source ../data/test_images --weights ../yolov7/runs/train/yolov7/yolov7_five_sisters/weights/last.pt --project ../data/detect --name ''"
   ]
  }
 ],
 "metadata": {
  "kernelspec": {
   "display_name": "Python 3 (ipykernel)",
   "language": "python",
   "name": "python3"
  },
  "language_info": {
   "codemirror_mode": {
    "name": "ipython",
    "version": 3
   },
   "file_extension": ".py",
   "mimetype": "text/x-python",
   "name": "python",
   "nbconvert_exporter": "python",
   "pygments_lexer": "ipython3",
   "version": "3.8.12"
  }
 },
 "nbformat": 4,
 "nbformat_minor": 5
}
