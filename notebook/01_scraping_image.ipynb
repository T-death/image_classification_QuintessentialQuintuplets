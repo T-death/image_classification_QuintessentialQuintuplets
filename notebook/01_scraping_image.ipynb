{
 "cells": [
  {
   "cell_type": "markdown",
   "id": "b5290b5a-47c9-4ba8-9d54-5f8732b33b77",
   "metadata": {},
   "source": [
    "# データセットに必要な画像をスクレイピング(ダウンロード)"
   ]
  },
  {
   "cell_type": "markdown",
   "id": "ffca7e49-95ac-4f95-9340-d263e87e574b",
   "metadata": {},
   "source": [
    "`./00_scraping_imageURL.ipynb`にてcsvファイルに画像のURLを記述しているので、そのURLから画像をダウンロードしてくる。"
   ]
  },
  {
   "cell_type": "code",
   "execution_count": 15,
   "id": "af1b1565-02bc-4db9-a99b-1d9ef6fb0280",
   "metadata": {},
   "outputs": [],
   "source": [
    "import os\n",
    "import pandas as pd\n",
    "import requests\n",
    "from bs4 import BeautifulSoup as BS"
   ]
  },
  {
   "cell_type": "markdown",
   "id": "b58737f5-6afd-44fe-9fb4-59147e3ece5f",
   "metadata": {},
   "source": [
    "## 定数定義"
   ]
  },
  {
   "cell_type": "code",
   "execution_count": 11,
   "id": "393f3d90-6681-4b2d-ab3b-98a3f27c026c",
   "metadata": {},
   "outputs": [],
   "source": [
    "DATA_PATH = os.path.join('..','data')\n",
    "CSV_PATH = os.path.join(DATA_PATH,'csv','image_url.csv')\n",
    "OUTPUT_IMAGE_FOLDER = os.path.join(DATA_PATH,'images')"
   ]
  },
  {
   "cell_type": "code",
   "execution_count": 12,
   "id": "c669b414-4461-40c8-9d90-5e9d2a3cf95a",
   "metadata": {},
   "outputs": [],
   "source": [
    "os.makedirs(OUTPUT_IMAGE_FOLDER, exist_ok=True)"
   ]
  },
  {
   "cell_type": "markdown",
   "id": "81f71445-f3a4-4404-862e-345cff60c8ff",
   "metadata": {},
   "source": [
    "## 画像のダウンロード"
   ]
  },
  {
   "cell_type": "code",
   "execution_count": 13,
   "id": "a2ecfb8a-b2ac-4522-afd7-3cec05352dc9",
   "metadata": {},
   "outputs": [
    {
     "data": {
      "text/html": [
       "<div>\n",
       "<style scoped>\n",
       "    .dataframe tbody tr th:only-of-type {\n",
       "        vertical-align: middle;\n",
       "    }\n",
       "\n",
       "    .dataframe tbody tr th {\n",
       "        vertical-align: top;\n",
       "    }\n",
       "\n",
       "    .dataframe thead th {\n",
       "        text-align: right;\n",
       "    }\n",
       "</style>\n",
       "<table border=\"1\" class=\"dataframe\">\n",
       "  <thead>\n",
       "    <tr style=\"text-align: right;\">\n",
       "      <th></th>\n",
       "      <th>image_URL</th>\n",
       "    </tr>\n",
       "  </thead>\n",
       "  <tbody>\n",
       "    <tr>\n",
       "      <th>0</th>\n",
       "      <td>https://www.tbs.co.jp/anime/5hanayome/img/top_...</td>\n",
       "    </tr>\n",
       "    <tr>\n",
       "      <th>1</th>\n",
       "      <td>https://www.tbs.co.jp/anime/5hanayome/img/top_...</td>\n",
       "    </tr>\n",
       "    <tr>\n",
       "      <th>2</th>\n",
       "      <td>https://www.tbs.co.jp/anime/5hanayome/img/top_...</td>\n",
       "    </tr>\n",
       "    <tr>\n",
       "      <th>3</th>\n",
       "      <td>https://i.ytimg.com/vi/o3MopPDakGA/maxresdefau...</td>\n",
       "    </tr>\n",
       "    <tr>\n",
       "      <th>4</th>\n",
       "      <td>https://i.ytimg.com/vi/pCwfEB6PbFk/maxresdefau...</td>\n",
       "    </tr>\n",
       "    <tr>\n",
       "      <th>...</th>\n",
       "      <td>...</td>\n",
       "    </tr>\n",
       "    <tr>\n",
       "      <th>399</th>\n",
       "      <td>https://img.fril.jp/img/525400942/l/1580741095...</td>\n",
       "    </tr>\n",
       "    <tr>\n",
       "      <th>400</th>\n",
       "      <td>https://deliver.cdn.nicomanga.jp/thumb/mg_icon...</td>\n",
       "    </tr>\n",
       "    <tr>\n",
       "      <th>401</th>\n",
       "      <td>https://encrypted-tbn0.gstatic.com/images?q=tb...</td>\n",
       "    </tr>\n",
       "    <tr>\n",
       "      <th>402</th>\n",
       "      <td>https://auc-pctr.c.yimg.jp/i/auctions.c.yimg.j...</td>\n",
       "    </tr>\n",
       "    <tr>\n",
       "      <th>403</th>\n",
       "      <td>https://encrypted-tbn0.gstatic.com/images?q=tb...</td>\n",
       "    </tr>\n",
       "  </tbody>\n",
       "</table>\n",
       "<p>404 rows × 1 columns</p>\n",
       "</div>"
      ],
      "text/plain": [
       "                                             image_URL\n",
       "0    https://www.tbs.co.jp/anime/5hanayome/img/top_...\n",
       "1    https://www.tbs.co.jp/anime/5hanayome/img/top_...\n",
       "2    https://www.tbs.co.jp/anime/5hanayome/img/top_...\n",
       "3    https://i.ytimg.com/vi/o3MopPDakGA/maxresdefau...\n",
       "4    https://i.ytimg.com/vi/pCwfEB6PbFk/maxresdefau...\n",
       "..                                                 ...\n",
       "399  https://img.fril.jp/img/525400942/l/1580741095...\n",
       "400  https://deliver.cdn.nicomanga.jp/thumb/mg_icon...\n",
       "401  https://encrypted-tbn0.gstatic.com/images?q=tb...\n",
       "402  https://auc-pctr.c.yimg.jp/i/auctions.c.yimg.j...\n",
       "403  https://encrypted-tbn0.gstatic.com/images?q=tb...\n",
       "\n",
       "[404 rows x 1 columns]"
      ]
     },
     "execution_count": 13,
     "metadata": {},
     "output_type": "execute_result"
    }
   ],
   "source": [
    "# 画像URLが記述されているcsvファイルの読み込み\n",
    "df = pd.read_csv(CSV_PATH, index_col=0)\n",
    "df"
   ]
  },
  {
   "cell_type": "code",
   "execution_count": 19,
   "id": "a571ef6f-4cdd-4b60-8509-9868bdc31d53",
   "metadata": {},
   "outputs": [],
   "source": [
    "def download_image(df, output_image_folder):\n",
    "    for i, url in enumerate(df['image_URL']):\n",
    "        rq = requests.get(url)\n",
    "        img = rq.content\n",
    "        file_name = f\"{str(i+1).zfill(4)}.png\"\n",
    "        file_path = os.path.join(output_image_folder,file_name)\n",
    "        with open(file_path, 'wb') as wf:\n",
    "            wf.write(img)"
   ]
  },
  {
   "cell_type": "code",
   "execution_count": 20,
   "id": "060a8d74-b56b-468c-94b6-80bb6db54601",
   "metadata": {},
   "outputs": [],
   "source": [
    "download_image(df, OUTPUT_IMAGE_FOLDER)"
   ]
  },
  {
   "cell_type": "code",
   "execution_count": null,
   "id": "982c8999-81c7-4e0c-8df4-5197e9c7b241",
   "metadata": {},
   "outputs": [],
   "source": []
  }
 ],
 "metadata": {
  "kernelspec": {
   "display_name": "Python 3 (ipykernel)",
   "language": "python",
   "name": "python3"
  },
  "language_info": {
   "codemirror_mode": {
    "name": "ipython",
    "version": 3
   },
   "file_extension": ".py",
   "mimetype": "text/x-python",
   "name": "python",
   "nbconvert_exporter": "python",
   "pygments_lexer": "ipython3",
   "version": "3.8.12"
  }
 },
 "nbformat": 4,
 "nbformat_minor": 5
}
