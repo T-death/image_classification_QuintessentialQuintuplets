{
 "cells": [
  {
   "cell_type": "markdown",
   "id": "fe9b03ce-eac9-4d9a-a930-64c7ec4e6d3a",
   "metadata": {},
   "source": [
    "# YOLOを用いた学習"
   ]
  },
  {
   "cell_type": "markdown",
   "id": "aa71203e-4387-4bfd-96b5-da7e2ed48444",
   "metadata": {},
   "source": [
    "[こちらの記事](https://farml1.com/yolov7/)を参考にした。"
   ]
  },
  {
   "cell_type": "code",
   "execution_count": 1,
   "id": "365059a5-b969-45ad-ac6e-57729029e06f",
   "metadata": {},
   "outputs": [],
   "source": [
    "import os\n",
    "from glob import glob\n",
    "from collections import defaultdict\n",
    "import random\n",
    "import shutil"
   ]
  },
  {
   "cell_type": "markdown",
   "id": "49f5732a-ad06-494f-8823-9be9aa51236b",
   "metadata": {},
   "source": [
    "## 定数定義"
   ]
  },
  {
   "cell_type": "code",
   "execution_count": 2,
   "id": "ccace467-22a1-44e3-9d7b-df4028625a8b",
   "metadata": {},
   "outputs": [],
   "source": [
    "DATA_PATH = os.path.join('..','data')\n",
    "IMAGE_PATH = os.path.join(DATA_PATH,'images')\n",
    "LABEL_PATH = os.path.join(DATA_PATH,'labels')\n",
    "\n",
    "CUSTOM_DATASET_PATH = os.path.join(DATA_PATH,'custom_dataset')\n",
    "CUSTOM_IMAGE_PATH = os.path.join(CUSTOM_DATASET_PATH,'images')\n",
    "CUSTOM_LABEL_PATH = os.path.join(CUSTOM_DATASET_PATH,'labels')\n",
    "TRAIN_IMAGE_PATH = os.path.join(CUSTOM_IMAGE_PATH,'train')\n",
    "VALID_IMAGE_PATH = os.path.join(CUSTOM_IMAGE_PATH,'valid')\n",
    "TRAIN_LABEL_PATH = os.path.join(CUSTOM_LABEL_PATH,'train')\n",
    "VALID_LABEL_PATH = os.path.join(CUSTOM_LABEL_PATH,'valid')"
   ]
  },
  {
   "cell_type": "markdown",
   "id": "006a5ed7-1534-418b-8fa3-0c2550545caf",
   "metadata": {},
   "source": [
    "## 画像とラベルファイルの整合性の確認  \n",
    "いくつかのラベルや画像を除去しているので、画像とラベルファイルが対応するように整える"
   ]
  },
  {
   "cell_type": "code",
   "execution_count": 3,
   "id": "e0789845-acc0-472e-bc23-ec8ce54bf39a",
   "metadata": {},
   "outputs": [
    {
     "data": {
      "text/plain": [
       "(200, 201)"
      ]
     },
     "execution_count": 3,
     "metadata": {},
     "output_type": "execute_result"
    }
   ],
   "source": [
    "imgAry = set([os.path.basename(img_path) for img_path in glob(os.path.join(IMAGE_PATH,'*.png'))])\n",
    "lblAry = set([os.path.basename(lbl_path) for lbl_path in glob(os.path.join(LABEL_PATH,'*.txt'))])\n",
    "len(imgAry), len(lblAry)"
   ]
  },
  {
   "cell_type": "code",
   "execution_count": 4,
   "id": "1c47514f-485d-4453-802c-00a646a202b1",
   "metadata": {},
   "outputs": [],
   "source": [
    "mx = len(imgAry)\n",
    "for i in range(1, mx+1):\n",
    "    file_num = str(i).zfill(4)\n",
    "    img_name = f\"{file_num}.png\"\n",
    "    lbl_name = f\"{file_num}.txt\"\n",
    "    if img_name in imgAry and lbl_name in lblAry:\n",
    "        continue\n",
    "    imgAry.discard(img_name)\n",
    "    lblAry.discard(lbl_name)"
   ]
  },
  {
   "cell_type": "code",
   "execution_count": 5,
   "id": "f39c4f5b-2b0e-4a36-905a-50d64e23a9e6",
   "metadata": {},
   "outputs": [
    {
     "data": {
      "text/plain": [
       "(200, 201)"
      ]
     },
     "execution_count": 5,
     "metadata": {},
     "output_type": "execute_result"
    }
   ],
   "source": [
    "len(imgAry), len(lblAry)"
   ]
  },
  {
   "cell_type": "markdown",
   "id": "0637a92a-6d98-41d2-947a-33f0c6a6a8f9",
   "metadata": {},
   "source": [
    "画像とラベルファイルの枚数が一致したことを確認(classes.txtの影響で1枚ずれる)。"
   ]
  },
  {
   "cell_type": "markdown",
   "id": "54eb93bb-e2ba-4b95-a6b0-f3af623a3f1a",
   "metadata": {},
   "source": [
    "## 不要な画像の除去"
   ]
  },
  {
   "cell_type": "code",
   "execution_count": 6,
   "id": "c5c25379-f283-47a5-bdc8-5c1741628b95",
   "metadata": {},
   "outputs": [],
   "source": [
    "for img_path in glob(os.path.join(IMAGE_PATH,'*.png')):\n",
    "    img_name = os.path.basename(img_path)\n",
    "    lbl_name = os.path.splitext(img_name)[0] + '.txt'\n",
    "    if lbl_name not in lblAry:\n",
    "        try:\n",
    "            os.remove(os.path.join(IMAGE_PATH,img_name))\n",
    "        except FileNotFoundError:\n",
    "            continue"
   ]
  },
  {
   "cell_type": "markdown",
   "id": "a6b12daf-5b83-4abf-a766-a883f1bcaf84",
   "metadata": {},
   "source": [
    "## クラス数の確認  \n",
    "データが不均衡でないかを見てみる。"
   ]
  },
  {
   "cell_type": "code",
   "execution_count": 7,
   "id": "58dab9cc-3b0d-4e6e-b2b8-6c6a921ffd3c",
   "metadata": {},
   "outputs": [],
   "source": [
    "dict = defaultdict(int)\n",
    "for lbl_path in glob(os.path.join(LABEL_PATH,'*.txt')):\n",
    "    if 'class' in lbl_path:\n",
    "        continue\n",
    "    with open(lbl_path, 'r') as rf:\n",
    "        lines = rf.readlines()\n",
    "        for line in lines:\n",
    "            line = line.rstrip('\\n')\n",
    "            num = int(line.split()[0])\n",
    "            dict[num] += 1"
   ]
  },
  {
   "cell_type": "code",
   "execution_count": 8,
   "id": "96da70b0-aa89-4fb8-a3db-34010dc0798d",
   "metadata": {},
   "outputs": [
    {
     "data": {
      "text/plain": [
       "defaultdict(int, {4: 132, 2: 132, 0: 125, 1: 130, 3: 129})"
      ]
     },
     "execution_count": 8,
     "metadata": {},
     "output_type": "execute_result"
    }
   ],
   "source": [
    "dict"
   ]
  },
  {
   "cell_type": "markdown",
   "id": "b1e92a1b-ca91-4075-83b5-1e9c140b2eed",
   "metadata": {},
   "source": [
    "以外にも悪くない感じ。割と均等にラベル付けができている。"
   ]
  },
  {
   "cell_type": "markdown",
   "id": "91e694ff-43d4-4b63-a320-db0fa5117811",
   "metadata": {},
   "source": [
    "## ランダムに訓練データと評価データに分ける  \n",
    "train:valid = 7:3"
   ]
  },
  {
   "cell_type": "code",
   "execution_count": 9,
   "id": "43d73162-450d-4461-adad-81caa0a11472",
   "metadata": {},
   "outputs": [],
   "source": [
    "# 変数リセット\n",
    "imgAry = sorted([img_path for img_path in glob(os.path.join(IMAGE_PATH,'*.png'))])\n",
    "lblAry = sorted([lbl_path for lbl_path in glob(os.path.join(LABEL_PATH,'*.txt'))])\n",
    "lblAry.remove(os.path.join(LABEL_PATH,'classes.txt')) # classes.txtを除く"
   ]
  },
  {
   "cell_type": "code",
   "execution_count": 10,
   "id": "2942e8b4-1e60-4960-b1ed-6e145b8833ab",
   "metadata": {},
   "outputs": [],
   "source": [
    "os.makedirs(TRAIN_IMAGE_PATH, exist_ok=True)\n",
    "os.makedirs(TRAIN_LABEL_PATH, exist_ok=True)\n",
    "os.makedirs(VALID_IMAGE_PATH, exist_ok=True)\n",
    "os.makedirs(VALID_LABEL_PATH, exist_ok=True)"
   ]
  },
  {
   "cell_type": "code",
   "execution_count": 11,
   "id": "42cd8b85-0eea-46e8-9e74-4cd27e9eeec9",
   "metadata": {},
   "outputs": [],
   "source": [
    "dataset = []\n",
    "for img_path, lbl_path in zip(imgAry, lblAry):\n",
    "    dataset.append([img_path, lbl_path])"
   ]
  },
  {
   "cell_type": "code",
   "execution_count": 12,
   "id": "e0b18e4a-efb8-4cc1-96ce-222400feab19",
   "metadata": {},
   "outputs": [
    {
     "data": {
      "text/plain": [
       "(140, 60)"
      ]
     },
     "execution_count": 12,
     "metadata": {},
     "output_type": "execute_result"
    }
   ],
   "source": [
    "n = int(7*len(imgAry)/10) #訓練データが7割\n",
    "train = random.sample(dataset, n)\n",
    "valid = [i for i in dataset if i not in train]\n",
    "len(train), len(valid)"
   ]
  },
  {
   "cell_type": "code",
   "execution_count": 13,
   "id": "d0da3938-b753-4208-be60-c886c0c31aa3",
   "metadata": {},
   "outputs": [],
   "source": [
    "# データのコピー\n",
    "def copy_files(target_dataset, img_folder, lbl_folder):\n",
    "    for img_path, lbl_path in target_dataset:\n",
    "        mv_img_path = os.path.join(img_folder,os.path.basename(img_path))\n",
    "        mv_lbl_path = os.path.join(lbl_folder,os.path.basename(lbl_path))\n",
    "        shutil.copy(img_path, mv_img_path)\n",
    "        shutil.copy(lbl_path, mv_lbl_path)"
   ]
  },
  {
   "cell_type": "code",
   "execution_count": 14,
   "id": "941ff80b-9828-409f-a8b6-387ef1495037",
   "metadata": {},
   "outputs": [],
   "source": [
    "copy_files(train, TRAIN_IMAGE_PATH, TRAIN_LABEL_PATH)"
   ]
  },
  {
   "cell_type": "code",
   "execution_count": 15,
   "id": "772e3ae9-856d-4300-9710-b5119c7fed7b",
   "metadata": {},
   "outputs": [],
   "source": [
    "copy_files(valid, VALID_IMAGE_PATH, VALID_LABEL_PATH)"
   ]
  },
  {
   "cell_type": "markdown",
   "id": "390624a9-5528-4531-8734-e44f2a0d2141",
   "metadata": {},
   "source": [
    "## 学習に使用するyamlファイルを作成"
   ]
  },
  {
   "cell_type": "markdown",
   "id": "bde1afcc-a33f-467c-9300-da2cdb481079",
   "metadata": {},
   "source": [
    "~~手動で`yolv7/data/coco.yaml`を変更する。分類するクラス数とそのクラス名称を変更するだけ(クラス名称の順番はclasses.txtと同じ)。~~  \n",
    "別に`dataset.yaml`という学習ファイルを作成した。"
   ]
  },
  {
   "cell_type": "markdown",
   "id": "7ce7c06d-7436-4e8f-b32d-0733bc9e831a",
   "metadata": {},
   "source": [
    "## YOLOによる学習"
   ]
  },
  {
   "cell_type": "markdown",
   "id": "781b6ebb-fcb3-4e48-ad2d-031a69f58e5b",
   "metadata": {},
   "source": [
    "~~ターミナルで環境を整えつつ、`train.py`を実行するだけ。~~  \n",
    "結局、GPUが無料で簡単に使えるgoogle colabにて動作を実行した。"
   ]
  }
 ],
 "metadata": {
  "kernelspec": {
   "display_name": "Python 3 (ipykernel)",
   "language": "python",
   "name": "python3"
  },
  "language_info": {
   "codemirror_mode": {
    "name": "ipython",
    "version": 3
   },
   "file_extension": ".py",
   "mimetype": "text/x-python",
   "name": "python",
   "nbconvert_exporter": "python",
   "pygments_lexer": "ipython3",
   "version": "3.8.12"
  }
 },
 "nbformat": 4,
 "nbformat_minor": 5
}
